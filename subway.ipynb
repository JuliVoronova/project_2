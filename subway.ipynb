{
  "nbformat": 4,
  "nbformat_minor": 0,
  "metadata": {
    "colab": {
      "provenance": [],
      "collapsed_sections": [
        "RcR3NznE3ykr",
        "1m6YrZx534ei"
      ]
    },
    "kernelspec": {
      "name": "python3",
      "display_name": "Python 3"
    },
    "language_info": {
      "name": "python"
    }
  },
  "cells": [
    {
      "cell_type": "markdown",
      "source": [
        "## Предобработка"
      ],
      "metadata": {
        "id": "ylmaWa5R3UvB"
      }
    },
    {
      "cell_type": "code",
      "source": [
        "import pandas as pd"
      ],
      "metadata": {
        "id": "OPOZ__rcq4TL"
      },
      "execution_count": 50,
      "outputs": []
    },
    {
      "cell_type": "code",
      "source": [
        "df = pd.read_csv('/content/subway.csv')\n",
        "display(df.head(2))"
      ],
      "metadata": {
        "colab": {
          "base_uri": "https://localhost:8080/",
          "height": 379
        },
        "id": "4o0XMCmCrNW_",
        "outputId": "0479a1fb-c071-47b5-fd36-ce764c8f1e4f"
      },
      "execution_count": 51,
      "outputs": [
        {
          "output_type": "display_data",
          "data": {
            "text/plain": [
              "   index    name                                                url  \\\n",
              "0      0  Subway  http://order.subway.com/Stores/Redirect.aspx?s...   \n",
              "1      1  Subway  http://order.subway.com/Stores/Redirect.aspx?s...   \n",
              "\n",
              "          street_address        city state zip_code country  phone_number_1  \\\n",
              "0  1800 Duke St, Ste 100  Alexandria    VA    22314     USA             NaN   \n",
              "1          1512 King St,  Alexandria    VA    22301     USA             NaN   \n",
              "\n",
              "   phone_number_2  ...  email_2  website  \\\n",
              "0             NaN  ...      NaN      NaN   \n",
              "1             NaN  ...      NaN      NaN   \n",
              "\n",
              "                                          open_hours  latitude  longitude  \\\n",
              "0  Monday 7:00 AM - 7:00 PM, Tuesday 7:00 AM - 7:...   38.8043   -77.0611   \n",
              "1  Sunday 9:00 AM - 8:00 PM, Monday 7:00 AM - 9:0...   38.8062   -77.0565   \n",
              "\n",
              "  facebook  twitter  instagram  pinterest  youtube  \n",
              "0      NaN      NaN        NaN        NaN      NaN  \n",
              "1      NaN      NaN        NaN        NaN      NaN  \n",
              "\n",
              "[2 rows x 23 columns]"
            ],
            "text/html": [
              "\n",
              "  <div id=\"df-6697198d-3171-49c8-843a-b0e2cf498fe1\">\n",
              "    <div class=\"colab-df-container\">\n",
              "      <div>\n",
              "<style scoped>\n",
              "    .dataframe tbody tr th:only-of-type {\n",
              "        vertical-align: middle;\n",
              "    }\n",
              "\n",
              "    .dataframe tbody tr th {\n",
              "        vertical-align: top;\n",
              "    }\n",
              "\n",
              "    .dataframe thead th {\n",
              "        text-align: right;\n",
              "    }\n",
              "</style>\n",
              "<table border=\"1\" class=\"dataframe\">\n",
              "  <thead>\n",
              "    <tr style=\"text-align: right;\">\n",
              "      <th></th>\n",
              "      <th>index</th>\n",
              "      <th>name</th>\n",
              "      <th>url</th>\n",
              "      <th>street_address</th>\n",
              "      <th>city</th>\n",
              "      <th>state</th>\n",
              "      <th>zip_code</th>\n",
              "      <th>country</th>\n",
              "      <th>phone_number_1</th>\n",
              "      <th>phone_number_2</th>\n",
              "      <th>...</th>\n",
              "      <th>email_2</th>\n",
              "      <th>website</th>\n",
              "      <th>open_hours</th>\n",
              "      <th>latitude</th>\n",
              "      <th>longitude</th>\n",
              "      <th>facebook</th>\n",
              "      <th>twitter</th>\n",
              "      <th>instagram</th>\n",
              "      <th>pinterest</th>\n",
              "      <th>youtube</th>\n",
              "    </tr>\n",
              "  </thead>\n",
              "  <tbody>\n",
              "    <tr>\n",
              "      <th>0</th>\n",
              "      <td>0</td>\n",
              "      <td>Subway</td>\n",
              "      <td>http://order.subway.com/Stores/Redirect.aspx?s...</td>\n",
              "      <td>1800 Duke St, Ste 100</td>\n",
              "      <td>Alexandria</td>\n",
              "      <td>VA</td>\n",
              "      <td>22314</td>\n",
              "      <td>USA</td>\n",
              "      <td>NaN</td>\n",
              "      <td>NaN</td>\n",
              "      <td>...</td>\n",
              "      <td>NaN</td>\n",
              "      <td>NaN</td>\n",
              "      <td>Monday 7:00 AM - 7:00 PM, Tuesday 7:00 AM - 7:...</td>\n",
              "      <td>38.8043</td>\n",
              "      <td>-77.0611</td>\n",
              "      <td>NaN</td>\n",
              "      <td>NaN</td>\n",
              "      <td>NaN</td>\n",
              "      <td>NaN</td>\n",
              "      <td>NaN</td>\n",
              "    </tr>\n",
              "    <tr>\n",
              "      <th>1</th>\n",
              "      <td>1</td>\n",
              "      <td>Subway</td>\n",
              "      <td>http://order.subway.com/Stores/Redirect.aspx?s...</td>\n",
              "      <td>1512 King St,</td>\n",
              "      <td>Alexandria</td>\n",
              "      <td>VA</td>\n",
              "      <td>22301</td>\n",
              "      <td>USA</td>\n",
              "      <td>NaN</td>\n",
              "      <td>NaN</td>\n",
              "      <td>...</td>\n",
              "      <td>NaN</td>\n",
              "      <td>NaN</td>\n",
              "      <td>Sunday 9:00 AM - 8:00 PM, Monday 7:00 AM - 9:0...</td>\n",
              "      <td>38.8062</td>\n",
              "      <td>-77.0565</td>\n",
              "      <td>NaN</td>\n",
              "      <td>NaN</td>\n",
              "      <td>NaN</td>\n",
              "      <td>NaN</td>\n",
              "      <td>NaN</td>\n",
              "    </tr>\n",
              "  </tbody>\n",
              "</table>\n",
              "<p>2 rows × 23 columns</p>\n",
              "</div>\n",
              "      <button class=\"colab-df-convert\" onclick=\"convertToInteractive('df-6697198d-3171-49c8-843a-b0e2cf498fe1')\"\n",
              "              title=\"Convert this dataframe to an interactive table.\"\n",
              "              style=\"display:none;\">\n",
              "        \n",
              "  <svg xmlns=\"http://www.w3.org/2000/svg\" height=\"24px\"viewBox=\"0 0 24 24\"\n",
              "       width=\"24px\">\n",
              "    <path d=\"M0 0h24v24H0V0z\" fill=\"none\"/>\n",
              "    <path d=\"M18.56 5.44l.94 2.06.94-2.06 2.06-.94-2.06-.94-.94-2.06-.94 2.06-2.06.94zm-11 1L8.5 8.5l.94-2.06 2.06-.94-2.06-.94L8.5 2.5l-.94 2.06-2.06.94zm10 10l.94 2.06.94-2.06 2.06-.94-2.06-.94-.94-2.06-.94 2.06-2.06.94z\"/><path d=\"M17.41 7.96l-1.37-1.37c-.4-.4-.92-.59-1.43-.59-.52 0-1.04.2-1.43.59L10.3 9.45l-7.72 7.72c-.78.78-.78 2.05 0 2.83L4 21.41c.39.39.9.59 1.41.59.51 0 1.02-.2 1.41-.59l7.78-7.78 2.81-2.81c.8-.78.8-2.07 0-2.86zM5.41 20L4 18.59l7.72-7.72 1.47 1.35L5.41 20z\"/>\n",
              "  </svg>\n",
              "      </button>\n",
              "      \n",
              "  <style>\n",
              "    .colab-df-container {\n",
              "      display:flex;\n",
              "      flex-wrap:wrap;\n",
              "      gap: 12px;\n",
              "    }\n",
              "\n",
              "    .colab-df-convert {\n",
              "      background-color: #E8F0FE;\n",
              "      border: none;\n",
              "      border-radius: 50%;\n",
              "      cursor: pointer;\n",
              "      display: none;\n",
              "      fill: #1967D2;\n",
              "      height: 32px;\n",
              "      padding: 0 0 0 0;\n",
              "      width: 32px;\n",
              "    }\n",
              "\n",
              "    .colab-df-convert:hover {\n",
              "      background-color: #E2EBFA;\n",
              "      box-shadow: 0px 1px 2px rgba(60, 64, 67, 0.3), 0px 1px 3px 1px rgba(60, 64, 67, 0.15);\n",
              "      fill: #174EA6;\n",
              "    }\n",
              "\n",
              "    [theme=dark] .colab-df-convert {\n",
              "      background-color: #3B4455;\n",
              "      fill: #D2E3FC;\n",
              "    }\n",
              "\n",
              "    [theme=dark] .colab-df-convert:hover {\n",
              "      background-color: #434B5C;\n",
              "      box-shadow: 0px 1px 3px 1px rgba(0, 0, 0, 0.15);\n",
              "      filter: drop-shadow(0px 1px 2px rgba(0, 0, 0, 0.3));\n",
              "      fill: #FFFFFF;\n",
              "    }\n",
              "  </style>\n",
              "\n",
              "      <script>\n",
              "        const buttonEl =\n",
              "          document.querySelector('#df-6697198d-3171-49c8-843a-b0e2cf498fe1 button.colab-df-convert');\n",
              "        buttonEl.style.display =\n",
              "          google.colab.kernel.accessAllowed ? 'block' : 'none';\n",
              "\n",
              "        async function convertToInteractive(key) {\n",
              "          const element = document.querySelector('#df-6697198d-3171-49c8-843a-b0e2cf498fe1');\n",
              "          const dataTable =\n",
              "            await google.colab.kernel.invokeFunction('convertToInteractive',\n",
              "                                                     [key], {});\n",
              "          if (!dataTable) return;\n",
              "\n",
              "          const docLinkHtml = 'Like what you see? Visit the ' +\n",
              "            '<a target=\"_blank\" href=https://colab.research.google.com/notebooks/data_table.ipynb>data table notebook</a>'\n",
              "            + ' to learn more about interactive tables.';\n",
              "          element.innerHTML = '';\n",
              "          dataTable['output_type'] = 'display_data';\n",
              "          await google.colab.output.renderOutput(dataTable, element);\n",
              "          const docLink = document.createElement('div');\n",
              "          docLink.innerHTML = docLinkHtml;\n",
              "          element.appendChild(docLink);\n",
              "        }\n",
              "      </script>\n",
              "    </div>\n",
              "  </div>\n",
              "  "
            ]
          },
          "metadata": {}
        }
      ]
    },
    {
      "cell_type": "code",
      "source": [
        "df.info()"
      ],
      "metadata": {
        "id": "5pwHE-DKrW1H"
      },
      "execution_count": null,
      "outputs": []
    },
    {
      "cell_type": "markdown",
      "source": [
        "### Работа с пропусками"
      ],
      "metadata": {
        "id": "RcR3NznE3ykr"
      }
    },
    {
      "cell_type": "code",
      "source": [
        "df.isna().sum()"
      ],
      "metadata": {
        "id": "At5k4nE9yh7l"
      },
      "execution_count": null,
      "outputs": []
    },
    {
      "cell_type": "code",
      "source": [
        "# удалю из df столбцы с пропусками, положу доступную инфу в a_data. \n",
        "# незаполненные колонки совершенно бесполезны\n",
        "\n",
        "a_data = df.dropna(axis=1)"
      ],
      "metadata": {
        "id": "iixdHEF6yh49"
      },
      "execution_count": 54,
      "outputs": []
    },
    {
      "cell_type": "code",
      "source": [
        "hours = df['open_hours']"
      ],
      "metadata": {
        "id": "jlSv6Fp_83f2"
      },
      "execution_count": 72,
      "outputs": []
    },
    {
      "cell_type": "code",
      "source": [
        "a_data['open_hours'] = hours"
      ],
      "metadata": {
        "id": "yMK4U6J59OUv"
      },
      "execution_count": null,
      "outputs": []
    },
    {
      "cell_type": "code",
      "source": [
        "# сколько пропусков осталось теперь\n",
        "\n",
        "a_data.isna().sum()"
      ],
      "metadata": {
        "id": "4goEnnZ10mdm"
      },
      "execution_count": null,
      "outputs": []
    },
    {
      "cell_type": "code",
      "source": [
        "# удалим строки с пропусками \n",
        "\n",
        "a_data = a_data.dropna(axis=0)"
      ],
      "metadata": {
        "id": "ZsrW8ADY-Zif"
      },
      "execution_count": 87,
      "outputs": []
    },
    {
      "cell_type": "code",
      "source": [
        "display(a_data.head())"
      ],
      "metadata": {
        "colab": {
          "base_uri": "https://localhost:8080/",
          "height": 206
        },
        "id": "SN3Cff630vZi",
        "outputId": "60bdd2e5-c16a-47e8-fadf-47bf1367f816"
      },
      "execution_count": 99,
      "outputs": [
        {
          "output_type": "display_data",
          "data": {
            "text/plain": [
              "   index    name                                  street_address        city  \\\n",
              "0      0  Subway                           1800 Duke St, Ste 100  Alexandria   \n",
              "1      1  Subway                                   1512 King St,  Alexandria   \n",
              "2      2  Subway                            2361 Eisenhower Ave,  Alexandria   \n",
              "3      3  Subway                      320 King Street, 1st Floor  Alexandria   \n",
              "4      4  Subway  5836 N. Kings Hwy, Suite A, Huntington Station  Alexandria   \n",
              "\n",
              "  state zip_code country  latitude  longitude  \\\n",
              "0    VA    22314     USA   38.8043   -77.0611   \n",
              "1    VA    22301     USA   38.8062   -77.0565   \n",
              "2    VA    22314     USA   38.8012   -77.0691   \n",
              "3    VA    22314     USA   38.8045   -77.0433   \n",
              "4    VA    22303     USA   38.7903   -77.0769   \n",
              "\n",
              "                                          open_hours  \n",
              "0  Monday 7:00 AM - 7:00 PM, Tuesday 7:00 AM - 7:...  \n",
              "1  Sunday 9:00 AM - 8:00 PM, Monday 7:00 AM - 9:0...  \n",
              "2  Sunday 9:00 AM - 8:30 PM, Monday 6:30 AM - 9:0...  \n",
              "3  Sunday 9:00 AM - 8:00 PM, Monday 7:00 AM - 9:0...  \n",
              "4  Sunday 9:00 AM - 9:00 PM, Monday 7:00 AM - 10:...  "
            ],
            "text/html": [
              "\n",
              "  <div id=\"df-4a4641be-05b8-4347-aa0f-6c651445e1a5\">\n",
              "    <div class=\"colab-df-container\">\n",
              "      <div>\n",
              "<style scoped>\n",
              "    .dataframe tbody tr th:only-of-type {\n",
              "        vertical-align: middle;\n",
              "    }\n",
              "\n",
              "    .dataframe tbody tr th {\n",
              "        vertical-align: top;\n",
              "    }\n",
              "\n",
              "    .dataframe thead th {\n",
              "        text-align: right;\n",
              "    }\n",
              "</style>\n",
              "<table border=\"1\" class=\"dataframe\">\n",
              "  <thead>\n",
              "    <tr style=\"text-align: right;\">\n",
              "      <th></th>\n",
              "      <th>index</th>\n",
              "      <th>name</th>\n",
              "      <th>street_address</th>\n",
              "      <th>city</th>\n",
              "      <th>state</th>\n",
              "      <th>zip_code</th>\n",
              "      <th>country</th>\n",
              "      <th>latitude</th>\n",
              "      <th>longitude</th>\n",
              "      <th>open_hours</th>\n",
              "    </tr>\n",
              "  </thead>\n",
              "  <tbody>\n",
              "    <tr>\n",
              "      <th>0</th>\n",
              "      <td>0</td>\n",
              "      <td>Subway</td>\n",
              "      <td>1800 Duke St, Ste 100</td>\n",
              "      <td>Alexandria</td>\n",
              "      <td>VA</td>\n",
              "      <td>22314</td>\n",
              "      <td>USA</td>\n",
              "      <td>38.8043</td>\n",
              "      <td>-77.0611</td>\n",
              "      <td>Monday 7:00 AM - 7:00 PM, Tuesday 7:00 AM - 7:...</td>\n",
              "    </tr>\n",
              "    <tr>\n",
              "      <th>1</th>\n",
              "      <td>1</td>\n",
              "      <td>Subway</td>\n",
              "      <td>1512 King St,</td>\n",
              "      <td>Alexandria</td>\n",
              "      <td>VA</td>\n",
              "      <td>22301</td>\n",
              "      <td>USA</td>\n",
              "      <td>38.8062</td>\n",
              "      <td>-77.0565</td>\n",
              "      <td>Sunday 9:00 AM - 8:00 PM, Monday 7:00 AM - 9:0...</td>\n",
              "    </tr>\n",
              "    <tr>\n",
              "      <th>2</th>\n",
              "      <td>2</td>\n",
              "      <td>Subway</td>\n",
              "      <td>2361 Eisenhower Ave,</td>\n",
              "      <td>Alexandria</td>\n",
              "      <td>VA</td>\n",
              "      <td>22314</td>\n",
              "      <td>USA</td>\n",
              "      <td>38.8012</td>\n",
              "      <td>-77.0691</td>\n",
              "      <td>Sunday 9:00 AM - 8:30 PM, Monday 6:30 AM - 9:0...</td>\n",
              "    </tr>\n",
              "    <tr>\n",
              "      <th>3</th>\n",
              "      <td>3</td>\n",
              "      <td>Subway</td>\n",
              "      <td>320 King Street, 1st Floor</td>\n",
              "      <td>Alexandria</td>\n",
              "      <td>VA</td>\n",
              "      <td>22314</td>\n",
              "      <td>USA</td>\n",
              "      <td>38.8045</td>\n",
              "      <td>-77.0433</td>\n",
              "      <td>Sunday 9:00 AM - 8:00 PM, Monday 7:00 AM - 9:0...</td>\n",
              "    </tr>\n",
              "    <tr>\n",
              "      <th>4</th>\n",
              "      <td>4</td>\n",
              "      <td>Subway</td>\n",
              "      <td>5836 N. Kings Hwy, Suite A, Huntington Station</td>\n",
              "      <td>Alexandria</td>\n",
              "      <td>VA</td>\n",
              "      <td>22303</td>\n",
              "      <td>USA</td>\n",
              "      <td>38.7903</td>\n",
              "      <td>-77.0769</td>\n",
              "      <td>Sunday 9:00 AM - 9:00 PM, Monday 7:00 AM - 10:...</td>\n",
              "    </tr>\n",
              "  </tbody>\n",
              "</table>\n",
              "</div>\n",
              "      <button class=\"colab-df-convert\" onclick=\"convertToInteractive('df-4a4641be-05b8-4347-aa0f-6c651445e1a5')\"\n",
              "              title=\"Convert this dataframe to an interactive table.\"\n",
              "              style=\"display:none;\">\n",
              "        \n",
              "  <svg xmlns=\"http://www.w3.org/2000/svg\" height=\"24px\"viewBox=\"0 0 24 24\"\n",
              "       width=\"24px\">\n",
              "    <path d=\"M0 0h24v24H0V0z\" fill=\"none\"/>\n",
              "    <path d=\"M18.56 5.44l.94 2.06.94-2.06 2.06-.94-2.06-.94-.94-2.06-.94 2.06-2.06.94zm-11 1L8.5 8.5l.94-2.06 2.06-.94-2.06-.94L8.5 2.5l-.94 2.06-2.06.94zm10 10l.94 2.06.94-2.06 2.06-.94-2.06-.94-.94-2.06-.94 2.06-2.06.94z\"/><path d=\"M17.41 7.96l-1.37-1.37c-.4-.4-.92-.59-1.43-.59-.52 0-1.04.2-1.43.59L10.3 9.45l-7.72 7.72c-.78.78-.78 2.05 0 2.83L4 21.41c.39.39.9.59 1.41.59.51 0 1.02-.2 1.41-.59l7.78-7.78 2.81-2.81c.8-.78.8-2.07 0-2.86zM5.41 20L4 18.59l7.72-7.72 1.47 1.35L5.41 20z\"/>\n",
              "  </svg>\n",
              "      </button>\n",
              "      \n",
              "  <style>\n",
              "    .colab-df-container {\n",
              "      display:flex;\n",
              "      flex-wrap:wrap;\n",
              "      gap: 12px;\n",
              "    }\n",
              "\n",
              "    .colab-df-convert {\n",
              "      background-color: #E8F0FE;\n",
              "      border: none;\n",
              "      border-radius: 50%;\n",
              "      cursor: pointer;\n",
              "      display: none;\n",
              "      fill: #1967D2;\n",
              "      height: 32px;\n",
              "      padding: 0 0 0 0;\n",
              "      width: 32px;\n",
              "    }\n",
              "\n",
              "    .colab-df-convert:hover {\n",
              "      background-color: #E2EBFA;\n",
              "      box-shadow: 0px 1px 2px rgba(60, 64, 67, 0.3), 0px 1px 3px 1px rgba(60, 64, 67, 0.15);\n",
              "      fill: #174EA6;\n",
              "    }\n",
              "\n",
              "    [theme=dark] .colab-df-convert {\n",
              "      background-color: #3B4455;\n",
              "      fill: #D2E3FC;\n",
              "    }\n",
              "\n",
              "    [theme=dark] .colab-df-convert:hover {\n",
              "      background-color: #434B5C;\n",
              "      box-shadow: 0px 1px 3px 1px rgba(0, 0, 0, 0.15);\n",
              "      filter: drop-shadow(0px 1px 2px rgba(0, 0, 0, 0.3));\n",
              "      fill: #FFFFFF;\n",
              "    }\n",
              "  </style>\n",
              "\n",
              "      <script>\n",
              "        const buttonEl =\n",
              "          document.querySelector('#df-4a4641be-05b8-4347-aa0f-6c651445e1a5 button.colab-df-convert');\n",
              "        buttonEl.style.display =\n",
              "          google.colab.kernel.accessAllowed ? 'block' : 'none';\n",
              "\n",
              "        async function convertToInteractive(key) {\n",
              "          const element = document.querySelector('#df-4a4641be-05b8-4347-aa0f-6c651445e1a5');\n",
              "          const dataTable =\n",
              "            await google.colab.kernel.invokeFunction('convertToInteractive',\n",
              "                                                     [key], {});\n",
              "          if (!dataTable) return;\n",
              "\n",
              "          const docLinkHtml = 'Like what you see? Visit the ' +\n",
              "            '<a target=\"_blank\" href=https://colab.research.google.com/notebooks/data_table.ipynb>data table notebook</a>'\n",
              "            + ' to learn more about interactive tables.';\n",
              "          element.innerHTML = '';\n",
              "          dataTable['output_type'] = 'display_data';\n",
              "          await google.colab.output.renderOutput(dataTable, element);\n",
              "          const docLink = document.createElement('div');\n",
              "          docLink.innerHTML = docLinkHtml;\n",
              "          element.appendChild(docLink);\n",
              "        }\n",
              "      </script>\n",
              "    </div>\n",
              "  </div>\n",
              "  "
            ]
          },
          "metadata": {}
        }
      ]
    },
    {
      "cell_type": "code",
      "source": [
        "a_data.shape"
      ],
      "metadata": {
        "colab": {
          "base_uri": "https://localhost:8080/"
        },
        "id": "QUJX8-Hi1Pbd",
        "outputId": "0b640cf8-7352-4a61-90b7-5526632e4447"
      },
      "execution_count": 88,
      "outputs": [
        {
          "output_type": "execute_result",
          "data": {
            "text/plain": [
              "(25395, 10)"
            ]
          },
          "metadata": {},
          "execution_count": 88
        }
      ]
    },
    {
      "cell_type": "markdown",
      "source": [
        "### Работа с дубликатами"
      ],
      "metadata": {
        "id": "1m6YrZx534ei"
      }
    },
    {
      "cell_type": "code",
      "source": [
        "a_data.duplicated().sum()"
      ],
      "metadata": {
        "colab": {
          "base_uri": "https://localhost:8080/"
        },
        "id": "Rw5orf3N38E-",
        "outputId": "b6249a18-6bb8-4273-ac04-e0d9f834340e"
      },
      "execution_count": 89,
      "outputs": [
        {
          "output_type": "execute_result",
          "data": {
            "text/plain": [
              "0"
            ]
          },
          "metadata": {},
          "execution_count": 89
        }
      ]
    },
    {
      "cell_type": "markdown",
      "source": [
        "Явных дубликатов нет"
      ],
      "metadata": {
        "id": "LJwe-Mcz4E7u"
      }
    },
    {
      "cell_type": "code",
      "source": [
        "sorted(a_data['country'].unique())"
      ],
      "metadata": {
        "colab": {
          "base_uri": "https://localhost:8080/"
        },
        "id": "bgXFa4pO4nJ0",
        "outputId": "77fbd1f8-4d92-4f67-bf5f-7a4adb5f9ff4"
      },
      "execution_count": 90,
      "outputs": [
        {
          "output_type": "execute_result",
          "data": {
            "text/plain": [
              "['USA']"
            ]
          },
          "metadata": {},
          "execution_count": 90
        }
      ]
    },
    {
      "cell_type": "code",
      "source": [
        "sorted(a_data['city'].unique())"
      ],
      "metadata": {
        "id": "6Z4a79p_4tYE"
      },
      "execution_count": null,
      "outputs": []
    },
    {
      "cell_type": "code",
      "source": [
        "len(a_data['city'].unique())"
      ],
      "metadata": {
        "colab": {
          "base_uri": "https://localhost:8080/"
        },
        "id": "iNijS1Ph5AGe",
        "outputId": "1671b93f-433b-43ae-956a-306baf51842a"
      },
      "execution_count": 92,
      "outputs": [
        {
          "output_type": "execute_result",
          "data": {
            "text/plain": [
              "7256"
            ]
          },
          "metadata": {},
          "execution_count": 92
        }
      ]
    },
    {
      "cell_type": "code",
      "source": [
        "a_data['city'].str.lower()"
      ],
      "metadata": {
        "id": "j0V8TxYK5OZM"
      },
      "execution_count": null,
      "outputs": []
    },
    {
      "cell_type": "code",
      "source": [
        "len(a_data['city'].unique())"
      ],
      "metadata": {
        "id": "GxMUYCLH5rRP"
      },
      "execution_count": null,
      "outputs": []
    },
    {
      "cell_type": "markdown",
      "source": [
        "Повторяющихся значений в названиях городов нет"
      ],
      "metadata": {
        "id": "GA2037TB5wH6"
      }
    },
    {
      "cell_type": "code",
      "source": [
        "len(a_data['state'].unique())"
      ],
      "metadata": {
        "id": "9SIa0gOQ56Go"
      },
      "execution_count": null,
      "outputs": []
    },
    {
      "cell_type": "code",
      "source": [
        "sorted(a_data['state'].unique())"
      ],
      "metadata": {
        "id": "AObnRU_t6abk"
      },
      "execution_count": null,
      "outputs": []
    },
    {
      "cell_type": "markdown",
      "source": [
        "Данные по 50-ти штатам, включая Округ Колумбия и Пуэрто-Рико!"
      ],
      "metadata": {
        "id": "Yx8slLVI7VVN"
      }
    },
    {
      "cell_type": "code",
      "source": [
        "len(a_data['street_address'].unique())"
      ],
      "metadata": {
        "colab": {
          "base_uri": "https://localhost:8080/"
        },
        "id": "ooIigCiq7fqC",
        "outputId": "5daeb12f-71f7-4c59-89fc-54a4d9ff6f81"
      },
      "execution_count": 97,
      "outputs": [
        {
          "output_type": "execute_result",
          "data": {
            "text/plain": [
              "25124"
            ]
          },
          "metadata": {},
          "execution_count": 97
        }
      ]
    },
    {
      "cell_type": "code",
      "source": [
        "sorted(a_data['street_address'].unique())"
      ],
      "metadata": {
        "id": "bnYP3LZQ7z6M"
      },
      "execution_count": null,
      "outputs": []
    },
    {
      "cell_type": "markdown",
      "source": [
        "Явных и неявных дубликатов не обнаружено"
      ],
      "metadata": {
        "id": "R3f08oi__TZU"
      }
    },
    {
      "cell_type": "markdown",
      "source": [
        "### Исследовательский анализ данных"
      ],
      "metadata": {
        "id": "cDZSK073_abt"
      }
    },
    {
      "cell_type": "code",
      "source": [
        "a_data.plot(\n",
        "    kind='scatter',\n",
        "    x='longitude', \n",
        "    y='latitude',\n",
        "    figsize = (10, 10),\n",
        "    alpha = 0.2 \n",
        ");"
      ],
      "metadata": {
        "colab": {
          "base_uri": "https://localhost:8080/",
          "height": 623
        },
        "id": "FdD36X7A_kfm",
        "outputId": "549b8e89-06e2-4f74-dd54-514c51d77366"
      },
      "execution_count": 108,
      "outputs": [
        {
          "output_type": "execute_result",
          "data": {
            "text/plain": [
              "<matplotlib.axes._subplots.AxesSubplot at 0x7f2a4d6ae550>"
            ]
          },
          "metadata": {},
          "execution_count": 108
        },
        {
          "output_type": "display_data",
          "data": {
            "text/plain": [
              "<Figure size 720x720 with 1 Axes>"
            ],
            "image/png": "[encoded data removed]"
          },
          "metadata": {
            "needs_background": "light"
          }
        }
      ]
    }
  ]
}