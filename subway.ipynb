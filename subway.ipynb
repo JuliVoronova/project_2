{
  "nbformat": 4,
  "nbformat_minor": 0,
  "metadata": {
    "colab": {
      "provenance": [],
      "collapsed_sections": [
        "1m6YrZx534ei"
      ]
    },
    "kernelspec": {
      "name": "python3",
      "display_name": "Python 3"
    },
    "language_info": {
      "name": "python"
    }
  },
  "cells": [
    {
      "cell_type": "markdown",
      "source": [
        "## Описание данных"
      ],
      "metadata": {
        "id": "Lbtxt84spe_N"
      }
    },
    {
      "cell_type": "markdown",
      "source": [
        "**About this dataset**\n",
        "\n",
        "Did you know that more than half of all Subway locations are in the United States? With such a large presence here, it's no wonder that Americans love their sandwiches!\n",
        "\n",
        "**How to use the dataset**\n",
        "\n",
        "This dataset is perfect for anyone wanting to know where their nearest Subway is, or for researchers wanting to know more about the distribution of Subway stores across the United States.\n",
        "\n",
        "The data includes the store name, street address, city, state, and ZIP code, and the store's latitude and longitude coordinates. There is also contact information such as phone numbers and email addresses, and social media links for Subway's Facebook, Twitter, Instagram, and Pinterest pages.\n",
        "\n",
        "**How to use the dataset**\n",
        "\n",
        "This dataset can be used to find out the nearest Subway store from a given location.\n",
        "Market researchers can also use it to understand the geographic distribution of fast-food franchises and how this varies by country.\n",
        "\n",
        "**Research Ideas**\n",
        "\n",
        "*   Use the dataset to plan the expansion of the Subway franchise into new markets.\n",
        "*   Use the dataset to understand the geographic distribution of fast food franchises and how this varies by country.\n",
        "* Use the dataset to investigate whether there are any patterns in the location of Subway stores that might be indicative of socio-economic factors such as income or educational level"
      ],
      "metadata": {
        "id": "E2-Ol1Sfp9ZJ"
      }
    },
    {
      "cell_type": "markdown",
      "source": [
        "## Предобработка"
      ],
      "metadata": {
        "id": "ylmaWa5R3UvB"
      }
    },
    {
      "cell_type": "code",
      "source": [
        "import pandas as pd"
      ],
      "metadata": {
        "id": "OPOZ__rcq4TL"
      },
      "execution_count": 1,
      "outputs": []
    },
    {
      "cell_type": "code",
      "source": [
        "try:\n",
        "  df=pd.read_csv('C:/Users/juvoronova/Desktop/Projects/project_2/data/subway.csv')\n",
        "  display(df.head(2))\n",
        "except:\n",
        "  df = pd.read_csv('/content/subway.csv')\n",
        "  display(df.head(2))"
      ],
      "metadata": {
        "colab": {
          "base_uri": "https://localhost:8080/",
          "height": 379
        },
        "id": "4o0XMCmCrNW_",
        "outputId": "8deb8bf5-5e37-4006-8253-baa5bed33220"
      },
      "execution_count": 2,
      "outputs": [
        {
          "output_type": "display_data",
          "data": {
            "text/plain": [
              "   index    name                                                url  \\\n",
              "0      0  Subway  http://order.subway.com/Stores/Redirect.aspx?s...   \n",
              "1      1  Subway  http://order.subway.com/Stores/Redirect.aspx?s...   \n",
              "\n",
              "          street_address        city state zip_code country  phone_number_1  \\\n",
              "0  1800 Duke St, Ste 100  Alexandria    VA    22314     USA             NaN   \n",
              "1          1512 King St,  Alexandria    VA    22301     USA             NaN   \n",
              "\n",
              "   phone_number_2  ...  email_2  website  \\\n",
              "0             NaN  ...      NaN      NaN   \n",
              "1             NaN  ...      NaN      NaN   \n",
              "\n",
              "                                          open_hours  latitude  longitude  \\\n",
              "0  Monday 7:00 AM - 7:00 PM, Tuesday 7:00 AM - 7:...   38.8043   -77.0611   \n",
              "1  Sunday 9:00 AM - 8:00 PM, Monday 7:00 AM - 9:0...   38.8062   -77.0565   \n",
              "\n",
              "  facebook  twitter  instagram  pinterest  youtube  \n",
              "0      NaN      NaN        NaN        NaN      NaN  \n",
              "1      NaN      NaN        NaN        NaN      NaN  \n",
              "\n",
              "[2 rows x 23 columns]"
            ],
            "text/html": [
              "\n",
              "  <div id=\"df-bd68faad-f5b4-41b5-8db7-fa188e224296\">\n",
              "    <div class=\"colab-df-container\">\n",
              "      <div>\n",
              "<style scoped>\n",
              "    .dataframe tbody tr th:only-of-type {\n",
              "        vertical-align: middle;\n",
              "    }\n",
              "\n",
              "    .dataframe tbody tr th {\n",
              "        vertical-align: top;\n",
              "    }\n",
              "\n",
              "    .dataframe thead th {\n",
              "        text-align: right;\n",
              "    }\n",
              "</style>\n",
              "<table border=\"1\" class=\"dataframe\">\n",
              "  <thead>\n",
              "    <tr style=\"text-align: right;\">\n",
              "      <th></th>\n",
              "      <th>index</th>\n",
              "      <th>name</th>\n",
              "      <th>url</th>\n",
              "      <th>street_address</th>\n",
              "      <th>city</th>\n",
              "      <th>state</th>\n",
              "      <th>zip_code</th>\n",
              "      <th>country</th>\n",
              "      <th>phone_number_1</th>\n",
              "      <th>phone_number_2</th>\n",
              "      <th>...</th>\n",
              "      <th>email_2</th>\n",
              "      <th>website</th>\n",
              "      <th>open_hours</th>\n",
              "      <th>latitude</th>\n",
              "      <th>longitude</th>\n",
              "      <th>facebook</th>\n",
              "      <th>twitter</th>\n",
              "      <th>instagram</th>\n",
              "      <th>pinterest</th>\n",
              "      <th>youtube</th>\n",
              "    </tr>\n",
              "  </thead>\n",
              "  <tbody>\n",
              "    <tr>\n",
              "      <th>0</th>\n",
              "      <td>0</td>\n",
              "      <td>Subway</td>\n",
              "      <td>http://order.subway.com/Stores/Redirect.aspx?s...</td>\n",
              "      <td>1800 Duke St, Ste 100</td>\n",
              "      <td>Alexandria</td>\n",
              "      <td>VA</td>\n",
              "      <td>22314</td>\n",
              "      <td>USA</td>\n",
              "      <td>NaN</td>\n",
              "      <td>NaN</td>\n",
              "      <td>...</td>\n",
              "      <td>NaN</td>\n",
              "      <td>NaN</td>\n",
              "      <td>Monday 7:00 AM - 7:00 PM, Tuesday 7:00 AM - 7:...</td>\n",
              "      <td>38.8043</td>\n",
              "      <td>-77.0611</td>\n",
              "      <td>NaN</td>\n",
              "      <td>NaN</td>\n",
              "      <td>NaN</td>\n",
              "      <td>NaN</td>\n",
              "      <td>NaN</td>\n",
              "    </tr>\n",
              "    <tr>\n",
              "      <th>1</th>\n",
              "      <td>1</td>\n",
              "      <td>Subway</td>\n",
              "      <td>http://order.subway.com/Stores/Redirect.aspx?s...</td>\n",
              "      <td>1512 King St,</td>\n",
              "      <td>Alexandria</td>\n",
              "      <td>VA</td>\n",
              "      <td>22301</td>\n",
              "      <td>USA</td>\n",
              "      <td>NaN</td>\n",
              "      <td>NaN</td>\n",
              "      <td>...</td>\n",
              "      <td>NaN</td>\n",
              "      <td>NaN</td>\n",
              "      <td>Sunday 9:00 AM - 8:00 PM, Monday 7:00 AM - 9:0...</td>\n",
              "      <td>38.8062</td>\n",
              "      <td>-77.0565</td>\n",
              "      <td>NaN</td>\n",
              "      <td>NaN</td>\n",
              "      <td>NaN</td>\n",
              "      <td>NaN</td>\n",
              "      <td>NaN</td>\n",
              "    </tr>\n",
              "  </tbody>\n",
              "</table>\n",
              "<p>2 rows × 23 columns</p>\n",
              "</div>\n",
              "      <button class=\"colab-df-convert\" onclick=\"convertToInteractive('df-bd68faad-f5b4-41b5-8db7-fa188e224296')\"\n",
              "              title=\"Convert this dataframe to an interactive table.\"\n",
              "              style=\"display:none;\">\n",
              "        \n",
              "  <svg xmlns=\"http://www.w3.org/2000/svg\" height=\"24px\"viewBox=\"0 0 24 24\"\n",
              "       width=\"24px\">\n",
              "    <path d=\"M0 0h24v24H0V0z\" fill=\"none\"/>\n",
              "    <path d=\"M18.56 5.44l.94 2.06.94-2.06 2.06-.94-2.06-.94-.94-2.06-.94 2.06-2.06.94zm-11 1L8.5 8.5l.94-2.06 2.06-.94-2.06-.94L8.5 2.5l-.94 2.06-2.06.94zm10 10l.94 2.06.94-2.06 2.06-.94-2.06-.94-.94-2.06-.94 2.06-2.06.94z\"/><path d=\"M17.41 7.96l-1.37-1.37c-.4-.4-.92-.59-1.43-.59-.52 0-1.04.2-1.43.59L10.3 9.45l-7.72 7.72c-.78.78-.78 2.05 0 2.83L4 21.41c.39.39.9.59 1.41.59.51 0 1.02-.2 1.41-.59l7.78-7.78 2.81-2.81c.8-.78.8-2.07 0-2.86zM5.41 20L4 18.59l7.72-7.72 1.47 1.35L5.41 20z\"/>\n",
              "  </svg>\n",
              "      </button>\n",
              "      \n",
              "  <style>\n",
              "    .colab-df-container {\n",
              "      display:flex;\n",
              "      flex-wrap:wrap;\n",
              "      gap: 12px;\n",
              "    }\n",
              "\n",
              "    .colab-df-convert {\n",
              "      background-color: #E8F0FE;\n",
              "      border: none;\n",
              "      border-radius: 50%;\n",
              "      cursor: pointer;\n",
              "      display: none;\n",
              "      fill: #1967D2;\n",
              "      height: 32px;\n",
              "      padding: 0 0 0 0;\n",
              "      width: 32px;\n",
              "    }\n",
              "\n",
              "    .colab-df-convert:hover {\n",
              "      background-color: #E2EBFA;\n",
              "      box-shadow: 0px 1px 2px rgba(60, 64, 67, 0.3), 0px 1px 3px 1px rgba(60, 64, 67, 0.15);\n",
              "      fill: #174EA6;\n",
              "    }\n",
              "\n",
              "    [theme=dark] .colab-df-convert {\n",
              "      background-color: #3B4455;\n",
              "      fill: #D2E3FC;\n",
              "    }\n",
              "\n",
              "    [theme=dark] .colab-df-convert:hover {\n",
              "      background-color: #434B5C;\n",
              "      box-shadow: 0px 1px 3px 1px rgba(0, 0, 0, 0.15);\n",
              "      filter: drop-shadow(0px 1px 2px rgba(0, 0, 0, 0.3));\n",
              "      fill: #FFFFFF;\n",
              "    }\n",
              "  </style>\n",
              "\n",
              "      <script>\n",
              "        const buttonEl =\n",
              "          document.querySelector('#df-bd68faad-f5b4-41b5-8db7-fa188e224296 button.colab-df-convert');\n",
              "        buttonEl.style.display =\n",
              "          google.colab.kernel.accessAllowed ? 'block' : 'none';\n",
              "\n",
              "        async function convertToInteractive(key) {\n",
              "          const element = document.querySelector('#df-bd68faad-f5b4-41b5-8db7-fa188e224296');\n",
              "          const dataTable =\n",
              "            await google.colab.kernel.invokeFunction('convertToInteractive',\n",
              "                                                     [key], {});\n",
              "          if (!dataTable) return;\n",
              "\n",
              "          const docLinkHtml = 'Like what you see? Visit the ' +\n",
              "            '<a target=\"_blank\" href=https://colab.research.google.com/notebooks/data_table.ipynb>data table notebook</a>'\n",
              "            + ' to learn more about interactive tables.';\n",
              "          element.innerHTML = '';\n",
              "          dataTable['output_type'] = 'display_data';\n",
              "          await google.colab.output.renderOutput(dataTable, element);\n",
              "          const docLink = document.createElement('div');\n",
              "          docLink.innerHTML = docLinkHtml;\n",
              "          element.appendChild(docLink);\n",
              "        }\n",
              "      </script>\n",
              "    </div>\n",
              "  </div>\n",
              "  "
            ]
          },
          "metadata": {}
        }
      ]
    },
    {
      "cell_type": "code",
      "source": [
        "df.info()"
      ],
      "metadata": {
        "id": "5pwHE-DKrW1H",
        "colab": {
          "base_uri": "https://localhost:8080/"
        },
        "outputId": "a35d7975-e13d-4fcb-b9a6-5f8a7d794fb8"
      },
      "execution_count": 3,
      "outputs": [
        {
          "output_type": "stream",
          "name": "stdout",
          "text": [
            "<class 'pandas.core.frame.DataFrame'>\n",
            "RangeIndex: 25533 entries, 0 to 25532\n",
            "Data columns (total 23 columns):\n",
            " #   Column          Non-Null Count  Dtype  \n",
            "---  ------          --------------  -----  \n",
            " 0   index           25533 non-null  int64  \n",
            " 1   name            25533 non-null  object \n",
            " 2   url             24017 non-null  object \n",
            " 3   street_address  25533 non-null  object \n",
            " 4   city            25533 non-null  object \n",
            " 5   state           25533 non-null  object \n",
            " 6   zip_code        25533 non-null  object \n",
            " 7   country         25533 non-null  object \n",
            " 8   phone_number_1  0 non-null      float64\n",
            " 9   phone_number_2  0 non-null      float64\n",
            " 10  fax_1           0 non-null      float64\n",
            " 11  fax_2           0 non-null      float64\n",
            " 12  email_1         0 non-null      float64\n",
            " 13  email_2         0 non-null      float64\n",
            " 14  website         0 non-null      float64\n",
            " 15  open_hours      25395 non-null  object \n",
            " 16  latitude        25533 non-null  float64\n",
            " 17  longitude       25533 non-null  float64\n",
            " 18  facebook        0 non-null      float64\n",
            " 19  twitter         0 non-null      float64\n",
            " 20  instagram       0 non-null      float64\n",
            " 21  pinterest       0 non-null      float64\n",
            " 22  youtube         0 non-null      float64\n",
            "dtypes: float64(14), int64(1), object(8)\n",
            "memory usage: 4.5+ MB\n"
          ]
        }
      ]
    },
    {
      "cell_type": "markdown",
      "source": [
        "### Работа с пропусками"
      ],
      "metadata": {
        "id": "RcR3NznE3ykr"
      }
    },
    {
      "cell_type": "code",
      "source": [
        "df.isna().sum()"
      ],
      "metadata": {
        "id": "At5k4nE9yh7l",
        "colab": {
          "base_uri": "https://localhost:8080/"
        },
        "outputId": "794c49df-e8de-49c6-aed8-6c0ac0bf38a1"
      },
      "execution_count": 4,
      "outputs": [
        {
          "output_type": "execute_result",
          "data": {
            "text/plain": [
              "index                 0\n",
              "name                  0\n",
              "url                1516\n",
              "street_address        0\n",
              "city                  0\n",
              "state                 0\n",
              "zip_code              0\n",
              "country               0\n",
              "phone_number_1    25533\n",
              "phone_number_2    25533\n",
              "fax_1             25533\n",
              "fax_2             25533\n",
              "email_1           25533\n",
              "email_2           25533\n",
              "website           25533\n",
              "open_hours          138\n",
              "latitude              0\n",
              "longitude             0\n",
              "facebook          25533\n",
              "twitter           25533\n",
              "instagram         25533\n",
              "pinterest         25533\n",
              "youtube           25533\n",
              "dtype: int64"
            ]
          },
          "metadata": {},
          "execution_count": 4
        }
      ]
    },
    {
      "cell_type": "code",
      "source": [
        "# удалю из df столбцы с пропусками, положу доступную инфу в a_data. \n",
        "# незаполненные колонки совершенно бесполезны\n",
        "\n",
        "a_data = df.dropna(axis=1)"
      ],
      "metadata": {
        "id": "iixdHEF6yh49"
      },
      "execution_count": 5,
      "outputs": []
    },
    {
      "cell_type": "code",
      "source": [
        "a_data['open_hours'] = df['open_hours'].copy()"
      ],
      "metadata": {
        "id": "jlSv6Fp_83f2",
        "colab": {
          "base_uri": "https://localhost:8080/"
        },
        "outputId": "c8fe4135-b8f7-462f-8274-3f3c7a8c1efa"
      },
      "execution_count": 6,
      "outputs": [
        {
          "output_type": "stream",
          "name": "stderr",
          "text": [
            "/usr/local/lib/python3.7/dist-packages/ipykernel_launcher.py:1: SettingWithCopyWarning: \n",
            "A value is trying to be set on a copy of a slice from a DataFrame.\n",
            "Try using .loc[row_indexer,col_indexer] = value instead\n",
            "\n",
            "See the caveats in the documentation: https://pandas.pydata.org/pandas-docs/stable/user_guide/indexing.html#returning-a-view-versus-a-copy\n",
            "  \"\"\"Entry point for launching an IPython kernel.\n"
          ]
        }
      ]
    },
    {
      "cell_type": "code",
      "source": [
        "# сколько пропусков осталось теперь\n",
        "\n",
        "a_data.isna().sum()"
      ],
      "metadata": {
        "id": "4goEnnZ10mdm",
        "colab": {
          "base_uri": "https://localhost:8080/"
        },
        "outputId": "0a2c891c-8cb8-4efe-ecba-e6d34969284e"
      },
      "execution_count": 9,
      "outputs": [
        {
          "output_type": "execute_result",
          "data": {
            "text/plain": [
              "index               0\n",
              "name                0\n",
              "street_address      0\n",
              "city                0\n",
              "state               0\n",
              "zip_code            0\n",
              "country             0\n",
              "latitude            0\n",
              "longitude           0\n",
              "open_hours        138\n",
              "dtype: int64"
            ]
          },
          "metadata": {},
          "execution_count": 9
        }
      ]
    },
    {
      "cell_type": "code",
      "source": [
        "# удалим строки с пропусками \n",
        "\n",
        "a_data = a_data.dropna(axis=0)"
      ],
      "metadata": {
        "id": "ZsrW8ADY-Zif"
      },
      "execution_count": 10,
      "outputs": []
    },
    {
      "cell_type": "code",
      "source": [
        "display(a_data.head())"
      ],
      "metadata": {
        "id": "SN3Cff630vZi"
      },
      "execution_count": null,
      "outputs": []
    },
    {
      "cell_type": "code",
      "source": [
        "a_data.shape"
      ],
      "metadata": {
        "colab": {
          "base_uri": "https://localhost:8080/"
        },
        "id": "QUJX8-Hi1Pbd",
        "outputId": "0493b56a-6daa-47ea-96c1-a8f36049b179"
      },
      "execution_count": 12,
      "outputs": [
        {
          "output_type": "execute_result",
          "data": {
            "text/plain": [
              "(25395, 10)"
            ]
          },
          "metadata": {},
          "execution_count": 12
        }
      ]
    },
    {
      "cell_type": "markdown",
      "source": [
        "### Работа с дубликатами"
      ],
      "metadata": {
        "id": "1m6YrZx534ei"
      }
    },
    {
      "cell_type": "code",
      "source": [
        "a_data.duplicated().sum()"
      ],
      "metadata": {
        "id": "Rw5orf3N38E-"
      },
      "execution_count": null,
      "outputs": []
    },
    {
      "cell_type": "markdown",
      "source": [
        "Явных дубликатов нет"
      ],
      "metadata": {
        "id": "LJwe-Mcz4E7u"
      }
    },
    {
      "cell_type": "code",
      "source": [
        "sorted(a_data['country'].unique())"
      ],
      "metadata": {
        "colab": {
          "base_uri": "https://localhost:8080/"
        },
        "id": "bgXFa4pO4nJ0",
        "outputId": "124585f9-cc22-4e8c-ba96-120fc634e15b"
      },
      "execution_count": 14,
      "outputs": [
        {
          "output_type": "execute_result",
          "data": {
            "text/plain": [
              "['USA']"
            ]
          },
          "metadata": {},
          "execution_count": 14
        }
      ]
    },
    {
      "cell_type": "code",
      "source": [
        "sorted(a_data['city'].unique())"
      ],
      "metadata": {
        "id": "6Z4a79p_4tYE"
      },
      "execution_count": null,
      "outputs": []
    },
    {
      "cell_type": "code",
      "source": [
        "len(a_data['city'].unique())"
      ],
      "metadata": {
        "colab": {
          "base_uri": "https://localhost:8080/"
        },
        "id": "iNijS1Ph5AGe",
        "outputId": "4a92e944-bcc4-4732-c021-0fd92748d121"
      },
      "execution_count": 16,
      "outputs": [
        {
          "output_type": "execute_result",
          "data": {
            "text/plain": [
              "7256"
            ]
          },
          "metadata": {},
          "execution_count": 16
        }
      ]
    },
    {
      "cell_type": "code",
      "source": [
        "a_data['city'].str.lower()"
      ],
      "metadata": {
        "id": "j0V8TxYK5OZM"
      },
      "execution_count": null,
      "outputs": []
    },
    {
      "cell_type": "code",
      "source": [
        "len(a_data['city'].unique())"
      ],
      "metadata": {
        "id": "GxMUYCLH5rRP",
        "colab": {
          "base_uri": "https://localhost:8080/"
        },
        "outputId": "42bf4743-bfb5-4e0b-ff87-fc3bb2ab7272"
      },
      "execution_count": 18,
      "outputs": [
        {
          "output_type": "execute_result",
          "data": {
            "text/plain": [
              "7256"
            ]
          },
          "metadata": {},
          "execution_count": 18
        }
      ]
    },
    {
      "cell_type": "markdown",
      "source": [
        "Повторяющихся значений в названиях городов нет"
      ],
      "metadata": {
        "id": "GA2037TB5wH6"
      }
    },
    {
      "cell_type": "code",
      "source": [
        "len(a_data['state'].unique())"
      ],
      "metadata": {
        "id": "9SIa0gOQ56Go",
        "colab": {
          "base_uri": "https://localhost:8080/"
        },
        "outputId": "1ee6bc55-7c9b-475b-937b-9f66b85c90af"
      },
      "execution_count": 19,
      "outputs": [
        {
          "output_type": "execute_result",
          "data": {
            "text/plain": [
              "52"
            ]
          },
          "metadata": {},
          "execution_count": 19
        }
      ]
    },
    {
      "cell_type": "code",
      "source": [
        "sorted(a_data['state'].unique())"
      ],
      "metadata": {
        "id": "AObnRU_t6abk"
      },
      "execution_count": null,
      "outputs": []
    },
    {
      "cell_type": "markdown",
      "source": [
        "Данные по 50-ти штатам, включая Округ Колумбия и Пуэрто-Рико!"
      ],
      "metadata": {
        "id": "Yx8slLVI7VVN"
      }
    },
    {
      "cell_type": "code",
      "source": [
        "len(a_data['street_address'].unique())"
      ],
      "metadata": {
        "colab": {
          "base_uri": "https://localhost:8080/"
        },
        "id": "ooIigCiq7fqC",
        "outputId": "cfd2ad20-1d04-4466-e9b9-d982a0627339"
      },
      "execution_count": 21,
      "outputs": [
        {
          "output_type": "execute_result",
          "data": {
            "text/plain": [
              "25124"
            ]
          },
          "metadata": {},
          "execution_count": 21
        }
      ]
    },
    {
      "cell_type": "code",
      "source": [
        "sorted(a_data['street_address'].unique())"
      ],
      "metadata": {
        "id": "bnYP3LZQ7z6M"
      },
      "execution_count": null,
      "outputs": []
    },
    {
      "cell_type": "markdown",
      "source": [
        "Явных и неявных дубликатов не обнаружено"
      ],
      "metadata": {
        "id": "R3f08oi__TZU"
      }
    },
    {
      "cell_type": "markdown",
      "source": [
        "### Исследовательский анализ данных"
      ],
      "metadata": {
        "id": "cDZSK073_abt"
      }
    },
    {
      "cell_type": "code",
      "source": [
        "a_data.plot(\n",
        "    kind='scatter',\n",
        "    x='longitude', \n",
        "    y='latitude',\n",
        "    figsize = (10, 10),\n",
        "    alpha = 0.2 \n",
        ");"
      ],
      "metadata": {
        "id": "FdD36X7A_kfm"
      },
      "execution_count": null,
      "outputs": []
    },
    {
      "cell_type": "code",
      "source": [
        "# сколько отделений в каждом штате \n",
        "\n",
        "a_data['state'].value_counts().sort_values(ascending=False)"
      ],
      "metadata": {
        "id": "UpkNpslQrh9g"
      },
      "execution_count": null,
      "outputs": []
    },
    {
      "cell_type": "code",
      "source": [
        "# для более делатьного анализа найду информации о размере каждого штата \n",
        "\n",
        "# словарь с расшифровкой аббревиатур \n",
        "\n",
        "try:\n",
        "  states_name = pd.read_excel('C:/Users/juvoronova/Desktop/Projects/project_2/data/states_name.xlsx', sheet_name='name')\n",
        "  display(states_name.head(10))\n",
        "except:\n",
        "  states_name = pd.read_excel('/content/states_name.xlsx', sheet_name='name')\n",
        "  display(states_name.head(10))\n"
      ],
      "metadata": {
        "colab": {
          "base_uri": "https://localhost:8080/",
          "height": 363
        },
        "id": "rmcFRX09sekH",
        "outputId": "f8607046-6bf8-4336-f9c2-2bc023cd4f6a"
      },
      "execution_count": 36,
      "outputs": [
        {
          "output_type": "display_data",
          "data": {
            "text/plain": [
              "      US STATE POSTAL ABBREVIATION STANDARD ABBREVIATION\n",
              "0      Alabama                  AL                  Ala.\n",
              "1       Alaska                  AK                Alaska\n",
              "2      Arizona                  AZ                 Ariz.\n",
              "3     Arkansas                  AR                  Ark.\n",
              "4   California                  CA                Calif.\n",
              "5     Colorado                  CO                Color.\n",
              "6  Connecticut                  CT                 Conn.\n",
              "7     Delaware                  DE                  Del.\n",
              "8      Florida                  FL                  Fla.\n",
              "9      Georgia                  GA                   Ga."
            ],
            "text/html": [
              "\n",
              "  <div id=\"df-bf2eae01-250f-4bba-9180-ce8363d6d90f\">\n",
              "    <div class=\"colab-df-container\">\n",
              "      <div>\n",
              "<style scoped>\n",
              "    .dataframe tbody tr th:only-of-type {\n",
              "        vertical-align: middle;\n",
              "    }\n",
              "\n",
              "    .dataframe tbody tr th {\n",
              "        vertical-align: top;\n",
              "    }\n",
              "\n",
              "    .dataframe thead th {\n",
              "        text-align: right;\n",
              "    }\n",
              "</style>\n",
              "<table border=\"1\" class=\"dataframe\">\n",
              "  <thead>\n",
              "    <tr style=\"text-align: right;\">\n",
              "      <th></th>\n",
              "      <th>US STATE</th>\n",
              "      <th>POSTAL ABBREVIATION</th>\n",
              "      <th>STANDARD ABBREVIATION</th>\n",
              "    </tr>\n",
              "  </thead>\n",
              "  <tbody>\n",
              "    <tr>\n",
              "      <th>0</th>\n",
              "      <td>Alabama</td>\n",
              "      <td>AL</td>\n",
              "      <td>Ala.</td>\n",
              "    </tr>\n",
              "    <tr>\n",
              "      <th>1</th>\n",
              "      <td>Alaska</td>\n",
              "      <td>AK</td>\n",
              "      <td>Alaska</td>\n",
              "    </tr>\n",
              "    <tr>\n",
              "      <th>2</th>\n",
              "      <td>Arizona</td>\n",
              "      <td>AZ</td>\n",
              "      <td>Ariz.</td>\n",
              "    </tr>\n",
              "    <tr>\n",
              "      <th>3</th>\n",
              "      <td>Arkansas</td>\n",
              "      <td>AR</td>\n",
              "      <td>Ark.</td>\n",
              "    </tr>\n",
              "    <tr>\n",
              "      <th>4</th>\n",
              "      <td>California</td>\n",
              "      <td>CA</td>\n",
              "      <td>Calif.</td>\n",
              "    </tr>\n",
              "    <tr>\n",
              "      <th>5</th>\n",
              "      <td>Colorado</td>\n",
              "      <td>CO</td>\n",
              "      <td>Color.</td>\n",
              "    </tr>\n",
              "    <tr>\n",
              "      <th>6</th>\n",
              "      <td>Connecticut</td>\n",
              "      <td>CT</td>\n",
              "      <td>Conn.</td>\n",
              "    </tr>\n",
              "    <tr>\n",
              "      <th>7</th>\n",
              "      <td>Delaware</td>\n",
              "      <td>DE</td>\n",
              "      <td>Del.</td>\n",
              "    </tr>\n",
              "    <tr>\n",
              "      <th>8</th>\n",
              "      <td>Florida</td>\n",
              "      <td>FL</td>\n",
              "      <td>Fla.</td>\n",
              "    </tr>\n",
              "    <tr>\n",
              "      <th>9</th>\n",
              "      <td>Georgia</td>\n",
              "      <td>GA</td>\n",
              "      <td>Ga.</td>\n",
              "    </tr>\n",
              "  </tbody>\n",
              "</table>\n",
              "</div>\n",
              "      <button class=\"colab-df-convert\" onclick=\"convertToInteractive('df-bf2eae01-250f-4bba-9180-ce8363d6d90f')\"\n",
              "              title=\"Convert this dataframe to an interactive table.\"\n",
              "              style=\"display:none;\">\n",
              "        \n",
              "  <svg xmlns=\"http://www.w3.org/2000/svg\" height=\"24px\"viewBox=\"0 0 24 24\"\n",
              "       width=\"24px\">\n",
              "    <path d=\"M0 0h24v24H0V0z\" fill=\"none\"/>\n",
              "    <path d=\"M18.56 5.44l.94 2.06.94-2.06 2.06-.94-2.06-.94-.94-2.06-.94 2.06-2.06.94zm-11 1L8.5 8.5l.94-2.06 2.06-.94-2.06-.94L8.5 2.5l-.94 2.06-2.06.94zm10 10l.94 2.06.94-2.06 2.06-.94-2.06-.94-.94-2.06-.94 2.06-2.06.94z\"/><path d=\"M17.41 7.96l-1.37-1.37c-.4-.4-.92-.59-1.43-.59-.52 0-1.04.2-1.43.59L10.3 9.45l-7.72 7.72c-.78.78-.78 2.05 0 2.83L4 21.41c.39.39.9.59 1.41.59.51 0 1.02-.2 1.41-.59l7.78-7.78 2.81-2.81c.8-.78.8-2.07 0-2.86zM5.41 20L4 18.59l7.72-7.72 1.47 1.35L5.41 20z\"/>\n",
              "  </svg>\n",
              "      </button>\n",
              "      \n",
              "  <style>\n",
              "    .colab-df-container {\n",
              "      display:flex;\n",
              "      flex-wrap:wrap;\n",
              "      gap: 12px;\n",
              "    }\n",
              "\n",
              "    .colab-df-convert {\n",
              "      background-color: #E8F0FE;\n",
              "      border: none;\n",
              "      border-radius: 50%;\n",
              "      cursor: pointer;\n",
              "      display: none;\n",
              "      fill: #1967D2;\n",
              "      height: 32px;\n",
              "      padding: 0 0 0 0;\n",
              "      width: 32px;\n",
              "    }\n",
              "\n",
              "    .colab-df-convert:hover {\n",
              "      background-color: #E2EBFA;\n",
              "      box-shadow: 0px 1px 2px rgba(60, 64, 67, 0.3), 0px 1px 3px 1px rgba(60, 64, 67, 0.15);\n",
              "      fill: #174EA6;\n",
              "    }\n",
              "\n",
              "    [theme=dark] .colab-df-convert {\n",
              "      background-color: #3B4455;\n",
              "      fill: #D2E3FC;\n",
              "    }\n",
              "\n",
              "    [theme=dark] .colab-df-convert:hover {\n",
              "      background-color: #434B5C;\n",
              "      box-shadow: 0px 1px 3px 1px rgba(0, 0, 0, 0.15);\n",
              "      filter: drop-shadow(0px 1px 2px rgba(0, 0, 0, 0.3));\n",
              "      fill: #FFFFFF;\n",
              "    }\n",
              "  </style>\n",
              "\n",
              "      <script>\n",
              "        const buttonEl =\n",
              "          document.querySelector('#df-bf2eae01-250f-4bba-9180-ce8363d6d90f button.colab-df-convert');\n",
              "        buttonEl.style.display =\n",
              "          google.colab.kernel.accessAllowed ? 'block' : 'none';\n",
              "\n",
              "        async function convertToInteractive(key) {\n",
              "          const element = document.querySelector('#df-bf2eae01-250f-4bba-9180-ce8363d6d90f');\n",
              "          const dataTable =\n",
              "            await google.colab.kernel.invokeFunction('convertToInteractive',\n",
              "                                                     [key], {});\n",
              "          if (!dataTable) return;\n",
              "\n",
              "          const docLinkHtml = 'Like what you see? Visit the ' +\n",
              "            '<a target=\"_blank\" href=https://colab.research.google.com/notebooks/data_table.ipynb>data table notebook</a>'\n",
              "            + ' to learn more about interactive tables.';\n",
              "          element.innerHTML = '';\n",
              "          dataTable['output_type'] = 'display_data';\n",
              "          await google.colab.output.renderOutput(dataTable, element);\n",
              "          const docLink = document.createElement('div');\n",
              "          docLink.innerHTML = docLinkHtml;\n",
              "          element.appendChild(docLink);\n",
              "        }\n",
              "      </script>\n",
              "    </div>\n",
              "  </div>\n",
              "  "
            ]
          },
          "metadata": {}
        }
      ]
    },
    {
      "cell_type": "code",
      "source": [
        "states_name.isna().sum()"
      ],
      "metadata": {
        "colab": {
          "base_uri": "https://localhost:8080/"
        },
        "id": "I-eMIIGCvc7o",
        "outputId": "ee785b98-07a3-4a70-c318-ef249f37d83d"
      },
      "execution_count": 37,
      "outputs": [
        {
          "output_type": "execute_result",
          "data": {
            "text/plain": [
              "US STATE                 0\n",
              "POSTAL ABBREVIATION      0\n",
              "STANDARD ABBREVIATION    6\n",
              "dtype: int64"
            ]
          },
          "metadata": {},
          "execution_count": 37
        }
      ]
    },
    {
      "cell_type": "code",
      "source": [
        "states_name.info()"
      ],
      "metadata": {
        "colab": {
          "base_uri": "https://localhost:8080/"
        },
        "id": "MDOMquBLv0Un",
        "outputId": "f24a5b1a-0f62-472b-da34-d2cc64d873e6"
      },
      "execution_count": 38,
      "outputs": [
        {
          "output_type": "stream",
          "name": "stdout",
          "text": [
            "<class 'pandas.core.frame.DataFrame'>\n",
            "RangeIndex: 62 entries, 0 to 61\n",
            "Data columns (total 3 columns):\n",
            " #   Column                 Non-Null Count  Dtype \n",
            "---  ------                 --------------  ----- \n",
            " 0   US STATE               62 non-null     object\n",
            " 1   POSTAL ABBREVIATION    62 non-null     object\n",
            " 2   STANDARD ABBREVIATION  56 non-null     object\n",
            "dtypes: object(3)\n",
            "memory usage: 1.6+ KB\n"
          ]
        }
      ]
    },
    {
      "cell_type": "code",
      "source": [
        "states_name = states_name.rename(columns={\n",
        "    'US STATE':'us_state',\n",
        "    'POSTAL ABBREVIATION':'state',\n",
        "    'STANDARD ABBREVIATION':'stand_abbrev'\n",
        "})"
      ],
      "metadata": {
        "id": "AKguNGAkv7h4"
      },
      "execution_count": 56,
      "outputs": []
    },
    {
      "cell_type": "code",
      "source": [
        "# data['column'].where(s > control_value, default_value)\n",
        "\n",
        "# a_data['name'] = states_name['us_state'].where(states_name['state'].isin(a_data['state']), ' ')\n",
        "\n",
        "display(a_data.head())"
      ],
      "metadata": {
        "colab": {
          "base_uri": "https://localhost:8080/",
          "height": 206
        },
        "id": "4HghYe4IwZaM",
        "outputId": "fa4b8dd5-734a-4705-8f6a-7a5d3e008ccb"
      },
      "execution_count": 66,
      "outputs": [
        {
          "output_type": "display_data",
          "data": {
            "text/plain": [
              "   index        name                                  street_address  \\\n",
              "0      0     Alabama                           1800 Duke St, Ste 100   \n",
              "1      1      Alaska                                   1512 King St,   \n",
              "2      2     Arizona                            2361 Eisenhower Ave,   \n",
              "3      3    Arkansas                      320 King Street, 1st Floor   \n",
              "4      4  California  5836 N. Kings Hwy, Suite A, Huntington Station   \n",
              "\n",
              "         city state zip_code country  latitude  longitude  \\\n",
              "0  Alexandria    VA    22314     USA   38.8043   -77.0611   \n",
              "1  Alexandria    VA    22301     USA   38.8062   -77.0565   \n",
              "2  Alexandria    VA    22314     USA   38.8012   -77.0691   \n",
              "3  Alexandria    VA    22314     USA   38.8045   -77.0433   \n",
              "4  Alexandria    VA    22303     USA   38.7903   -77.0769   \n",
              "\n",
              "                                          open_hours  \n",
              "0  Monday 7:00 AM - 7:00 PM, Tuesday 7:00 AM - 7:...  \n",
              "1  Sunday 9:00 AM - 8:00 PM, Monday 7:00 AM - 9:0...  \n",
              "2  Sunday 9:00 AM - 8:30 PM, Monday 6:30 AM - 9:0...  \n",
              "3  Sunday 9:00 AM - 8:00 PM, Monday 7:00 AM - 9:0...  \n",
              "4  Sunday 9:00 AM - 9:00 PM, Monday 7:00 AM - 10:...  "
            ],
            "text/html": [
              "\n",
              "  <div id=\"df-a4c86ed1-6dbf-443b-a73e-9dec1a886bba\">\n",
              "    <div class=\"colab-df-container\">\n",
              "      <div>\n",
              "<style scoped>\n",
              "    .dataframe tbody tr th:only-of-type {\n",
              "        vertical-align: middle;\n",
              "    }\n",
              "\n",
              "    .dataframe tbody tr th {\n",
              "        vertical-align: top;\n",
              "    }\n",
              "\n",
              "    .dataframe thead th {\n",
              "        text-align: right;\n",
              "    }\n",
              "</style>\n",
              "<table border=\"1\" class=\"dataframe\">\n",
              "  <thead>\n",
              "    <tr style=\"text-align: right;\">\n",
              "      <th></th>\n",
              "      <th>index</th>\n",
              "      <th>name</th>\n",
              "      <th>street_address</th>\n",
              "      <th>city</th>\n",
              "      <th>state</th>\n",
              "      <th>zip_code</th>\n",
              "      <th>country</th>\n",
              "      <th>latitude</th>\n",
              "      <th>longitude</th>\n",
              "      <th>open_hours</th>\n",
              "    </tr>\n",
              "  </thead>\n",
              "  <tbody>\n",
              "    <tr>\n",
              "      <th>0</th>\n",
              "      <td>0</td>\n",
              "      <td>Alabama</td>\n",
              "      <td>1800 Duke St, Ste 100</td>\n",
              "      <td>Alexandria</td>\n",
              "      <td>VA</td>\n",
              "      <td>22314</td>\n",
              "      <td>USA</td>\n",
              "      <td>38.8043</td>\n",
              "      <td>-77.0611</td>\n",
              "      <td>Monday 7:00 AM - 7:00 PM, Tuesday 7:00 AM - 7:...</td>\n",
              "    </tr>\n",
              "    <tr>\n",
              "      <th>1</th>\n",
              "      <td>1</td>\n",
              "      <td>Alaska</td>\n",
              "      <td>1512 King St,</td>\n",
              "      <td>Alexandria</td>\n",
              "      <td>VA</td>\n",
              "      <td>22301</td>\n",
              "      <td>USA</td>\n",
              "      <td>38.8062</td>\n",
              "      <td>-77.0565</td>\n",
              "      <td>Sunday 9:00 AM - 8:00 PM, Monday 7:00 AM - 9:0...</td>\n",
              "    </tr>\n",
              "    <tr>\n",
              "      <th>2</th>\n",
              "      <td>2</td>\n",
              "      <td>Arizona</td>\n",
              "      <td>2361 Eisenhower Ave,</td>\n",
              "      <td>Alexandria</td>\n",
              "      <td>VA</td>\n",
              "      <td>22314</td>\n",
              "      <td>USA</td>\n",
              "      <td>38.8012</td>\n",
              "      <td>-77.0691</td>\n",
              "      <td>Sunday 9:00 AM - 8:30 PM, Monday 6:30 AM - 9:0...</td>\n",
              "    </tr>\n",
              "    <tr>\n",
              "      <th>3</th>\n",
              "      <td>3</td>\n",
              "      <td>Arkansas</td>\n",
              "      <td>320 King Street, 1st Floor</td>\n",
              "      <td>Alexandria</td>\n",
              "      <td>VA</td>\n",
              "      <td>22314</td>\n",
              "      <td>USA</td>\n",
              "      <td>38.8045</td>\n",
              "      <td>-77.0433</td>\n",
              "      <td>Sunday 9:00 AM - 8:00 PM, Monday 7:00 AM - 9:0...</td>\n",
              "    </tr>\n",
              "    <tr>\n",
              "      <th>4</th>\n",
              "      <td>4</td>\n",
              "      <td>California</td>\n",
              "      <td>5836 N. Kings Hwy, Suite A, Huntington Station</td>\n",
              "      <td>Alexandria</td>\n",
              "      <td>VA</td>\n",
              "      <td>22303</td>\n",
              "      <td>USA</td>\n",
              "      <td>38.7903</td>\n",
              "      <td>-77.0769</td>\n",
              "      <td>Sunday 9:00 AM - 9:00 PM, Monday 7:00 AM - 10:...</td>\n",
              "    </tr>\n",
              "  </tbody>\n",
              "</table>\n",
              "</div>\n",
              "      <button class=\"colab-df-convert\" onclick=\"convertToInteractive('df-a4c86ed1-6dbf-443b-a73e-9dec1a886bba')\"\n",
              "              title=\"Convert this dataframe to an interactive table.\"\n",
              "              style=\"display:none;\">\n",
              "        \n",
              "  <svg xmlns=\"http://www.w3.org/2000/svg\" height=\"24px\"viewBox=\"0 0 24 24\"\n",
              "       width=\"24px\">\n",
              "    <path d=\"M0 0h24v24H0V0z\" fill=\"none\"/>\n",
              "    <path d=\"M18.56 5.44l.94 2.06.94-2.06 2.06-.94-2.06-.94-.94-2.06-.94 2.06-2.06.94zm-11 1L8.5 8.5l.94-2.06 2.06-.94-2.06-.94L8.5 2.5l-.94 2.06-2.06.94zm10 10l.94 2.06.94-2.06 2.06-.94-2.06-.94-.94-2.06-.94 2.06-2.06.94z\"/><path d=\"M17.41 7.96l-1.37-1.37c-.4-.4-.92-.59-1.43-.59-.52 0-1.04.2-1.43.59L10.3 9.45l-7.72 7.72c-.78.78-.78 2.05 0 2.83L4 21.41c.39.39.9.59 1.41.59.51 0 1.02-.2 1.41-.59l7.78-7.78 2.81-2.81c.8-.78.8-2.07 0-2.86zM5.41 20L4 18.59l7.72-7.72 1.47 1.35L5.41 20z\"/>\n",
              "  </svg>\n",
              "      </button>\n",
              "      \n",
              "  <style>\n",
              "    .colab-df-container {\n",
              "      display:flex;\n",
              "      flex-wrap:wrap;\n",
              "      gap: 12px;\n",
              "    }\n",
              "\n",
              "    .colab-df-convert {\n",
              "      background-color: #E8F0FE;\n",
              "      border: none;\n",
              "      border-radius: 50%;\n",
              "      cursor: pointer;\n",
              "      display: none;\n",
              "      fill: #1967D2;\n",
              "      height: 32px;\n",
              "      padding: 0 0 0 0;\n",
              "      width: 32px;\n",
              "    }\n",
              "\n",
              "    .colab-df-convert:hover {\n",
              "      background-color: #E2EBFA;\n",
              "      box-shadow: 0px 1px 2px rgba(60, 64, 67, 0.3), 0px 1px 3px 1px rgba(60, 64, 67, 0.15);\n",
              "      fill: #174EA6;\n",
              "    }\n",
              "\n",
              "    [theme=dark] .colab-df-convert {\n",
              "      background-color: #3B4455;\n",
              "      fill: #D2E3FC;\n",
              "    }\n",
              "\n",
              "    [theme=dark] .colab-df-convert:hover {\n",
              "      background-color: #434B5C;\n",
              "      box-shadow: 0px 1px 3px 1px rgba(0, 0, 0, 0.15);\n",
              "      filter: drop-shadow(0px 1px 2px rgba(0, 0, 0, 0.3));\n",
              "      fill: #FFFFFF;\n",
              "    }\n",
              "  </style>\n",
              "\n",
              "      <script>\n",
              "        const buttonEl =\n",
              "          document.querySelector('#df-a4c86ed1-6dbf-443b-a73e-9dec1a886bba button.colab-df-convert');\n",
              "        buttonEl.style.display =\n",
              "          google.colab.kernel.accessAllowed ? 'block' : 'none';\n",
              "\n",
              "        async function convertToInteractive(key) {\n",
              "          const element = document.querySelector('#df-a4c86ed1-6dbf-443b-a73e-9dec1a886bba');\n",
              "          const dataTable =\n",
              "            await google.colab.kernel.invokeFunction('convertToInteractive',\n",
              "                                                     [key], {});\n",
              "          if (!dataTable) return;\n",
              "\n",
              "          const docLinkHtml = 'Like what you see? Visit the ' +\n",
              "            '<a target=\"_blank\" href=https://colab.research.google.com/notebooks/data_table.ipynb>data table notebook</a>'\n",
              "            + ' to learn more about interactive tables.';\n",
              "          element.innerHTML = '';\n",
              "          dataTable['output_type'] = 'display_data';\n",
              "          await google.colab.output.renderOutput(dataTable, element);\n",
              "          const docLink = document.createElement('div');\n",
              "          docLink.innerHTML = docLinkHtml;\n",
              "          element.appendChild(docLink);\n",
              "        }\n",
              "      </script>\n",
              "    </div>\n",
              "  </div>\n",
              "  "
            ]
          },
          "metadata": {}
        }
      ]
    },
    {
      "cell_type": "code",
      "source": [
        "a_data.shape"
      ],
      "metadata": {
        "colab": {
          "base_uri": "https://localhost:8080/"
        },
        "id": "BSuOetKLyhwn",
        "outputId": "ab485b46-d6b6-4404-95dd-98fe517b64db"
      },
      "execution_count": 59,
      "outputs": [
        {
          "output_type": "execute_result",
          "data": {
            "text/plain": [
              "(25395, 10)"
            ]
          },
          "metadata": {},
          "execution_count": 59
        }
      ]
    },
    {
      "cell_type": "code",
      "source": [],
      "metadata": {
        "id": "kyu6ro-c3r_G"
      },
      "execution_count": null,
      "outputs": []
    }
  ]
}